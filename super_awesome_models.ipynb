{
 "cells": [
  {
   "cell_type": "code",
   "execution_count": 38,
   "metadata": {},
   "outputs": [],
   "source": [
    "import pandas as pd\n",
    "import numpy as np\n",
    "import random"
   ]
  },
  {
   "cell_type": "code",
   "execution_count": 46,
   "metadata": {},
   "outputs": [],
   "source": [
    "def get_energy():\n",
    "    energy_2018 = pd.read_csv(\"data/nordpool2018_clean.csv\")\n",
    "    energy_2017 = pd.read_csv(\"data/nordpool2017_clean.csv\")\n",
    "    energy_2016 = pd.read_csv(\"data/nordpool2016_clean.csv\")\n",
    "    energy = pd.concat([energy_2017, energy_2016, energy_2018])\n",
    "    weather = pd.read_csv(\"data/weather1.csv\")\n",
    "    energy['date'] = pd.to_datetime(energy['date'])\n",
    "    energy = energy.sort_values(by=['date'])\n",
    "    return energy\n",
    "\n",
    "\n",
    "def get_train_test(data):\n",
    "    return data[:0.8*len(data)], data[0.8*len(data):]\n",
    "def get_training_samples(traindata):\n",
    "    "
   ]
  },
  {
   "cell_type": "code",
   "execution_count": 47,
   "metadata": {},
   "outputs": [],
   "source": [
    "energy = get_energy()\n",
    "\n",
    "twosix = energy[energy['date'] == '2017-01-01']\n",
    "twosixh = twosix[twosix['hour'] == 10]\n",
    "def predict_at(l1, l2, energy, year, month, day, hour):\n",
    "    yesterday = energy[energy['date'] == str(year) + '-' + str(month) + '-' + str((day - 1))]\n",
    "    twentyfour = yesterday[yesterday['hour'] == hour]\n",
    "    week = energy[energy['date'] == str(year) + '-' + str(month) + '-' + str(day - 7)]\n",
    "    weekhour = week[week['hour'] == hour]\n",
    "    return (twentyfour['price'].values * l1 + weekhour['price'].values * l2)[0]\n",
    "    #return (twentyfour['price'].values * 0.8 + weekhour['price'].values * 0.2)[0]\n",
    "\n",
    "def predict_day(l1, l2, energy, year, month, day):\n",
    "    prices = []\n",
    "    for hour in range(24):\n",
    "        prices.append(predict_at(l1, l2, energy, year, month, day + 1, hour))\n",
    "    return prices\n",
    "\n",
    "def get_day_prices(energy, year, month, day):\n",
    "    prices = energy[energy['date'] == str(year) + '-' + str(month) + '-' + str(day)]\n",
    "    return prices['price'].values"
   ]
  },
  {
   "cell_type": "code",
   "execution_count": 73,
   "metadata": {},
   "outputs": [
    {
     "name": "stdout",
     "output_type": "stream",
     "text": [
      "2483.8668500000003\n"
     ]
    }
   ],
   "source": [
    "rand = random.Random()\n",
    "mses = []\n",
    "for i in range(1000):\n",
    "    month = (int)(rand.uniform(1,10))\n",
    "    day = (int)(rand.uniform(10,28))\n",
    "    year = (int)(rand.uniform(2016,2018))\n",
    "#    print(year, month, day)\n",
    "    predicted = predict_day(1.0, 0.0, energy, year, month, day)\n",
    "    real = get_day_prices(energy, year, month, day)\n",
    "    mse = ((np.array(predicted) - np.array(real))**2).mean()\n",
    "    mses.append(mse)\n",
    "#    print('real', real)\n",
    "#    print('predicted: ', predicted)\n",
    "    \n",
    "#    print(\"MSE: \", mse)\n",
    "mses.sort()\n",
    "print(mses[(int)(len(mses) * 0.5)])\n",
    "#print('Mean mean square error', np.mean(mses))"
   ]
  },
  {
   "cell_type": "code",
   "execution_count": null,
   "metadata": {},
   "outputs": [],
   "source": []
  },
  {
   "cell_type": "code",
   "execution_count": null,
   "metadata": {},
   "outputs": [],
   "source": []
  }
 ],
 "metadata": {
  "kernelspec": {
   "display_name": "Python 3",
   "language": "python",
   "name": "python3"
  },
  "language_info": {
   "codemirror_mode": {
    "name": "ipython",
    "version": 3
   },
   "file_extension": ".py",
   "mimetype": "text/x-python",
   "name": "python",
   "nbconvert_exporter": "python",
   "pygments_lexer": "ipython3",
   "version": "3.6.7"
  }
 },
 "nbformat": 4,
 "nbformat_minor": 2
}
